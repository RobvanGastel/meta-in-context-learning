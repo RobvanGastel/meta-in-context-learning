{
 "cells": [
  {
   "cell_type": "code",
   "execution_count": 9,
   "id": "1bf72946-cdfc-4eee-a7f9-6d3c35fac750",
   "metadata": {},
   "outputs": [],
   "source": [
    "import jax\n",
    "import optax\n",
    "import jax.numpy as jnp\n",
    "import matplotlib.pyplot as plt\n",
    "\n",
    "from meta_icl.transformer import Transformer\n",
    "from meta_icl.data import sample_regression_dataset\n",
    "\n",
    "main_rng = jax.random.key(42)\n",
    "\n",
    "lr = 3e-3\n",
    "set_size = 10\n",
    "input_size = 10\n",
    "num_epochs = 2000\n",
    "\n",
    "model = Transformer(\n",
    "    num_heads=1,\n",
    "    embedding_size=11,\n",
    "    key_size=11,\n",
    "    num_layers=1,\n",
    "    output_size=1,\n",
    "    use_layer_norm=False,\n",
    "    only_attention=False\n",
    ")\n",
    "\n",
    "x = jnp.ones((1, 11, 11))\n",
    "params = model.init(main_rng, x, is_training=False) \n",
    "y = model.apply(params, x, is_training=False)\n",
    "\n",
    "opt_adamw = optax.adamw(learning_rate=lr)\n",
    "opt_params = opt_adamw.init(params)\n",
    "\n",
    "\n",
    "def compute_mse_loss(params, model, X, y):\n",
    "    # TODO: Compare slicing with original codebase\n",
    "    y_hat = model.apply(params, X, is_training=True)[:, -1, -1] # inference\n",
    "    loss = jnp.mean((y_hat - y[:, -1]) ** 2)  # MSE loss\n",
    "    return loss\n",
    "\n",
    "\n",
    "for epoch in range(num_epochs):\n",
    "    X, y, _ = sample_regression_dataset(main_rng, input_size, set_size=set_size, input_range=1.0)\n",
    "    \n",
    "    # TODO: Refactor step to a func with @jax.jit train_step()\n",
    "    loss_grad_fn = jax.value_and_grad(compute_mse_loss)\n",
    "    loss, grads = loss_grad_fn(params, model, X, y)\n",
    "\n",
    "    updates, opt_params = opt_adamw.update(grads, opt_params, params)\n",
    "    params = optax.apply_updates(params, updates)\n",
    "\n",
    "    # Created new params, opt_params\n",
    "    if epoch % 100 == 0:\n",
    "        print(epoch, loss)"
   ]
  },
  {
   "cell_type": "code",
   "execution_count": null,
   "id": "f5931bf0-f1ee-4e0d-9a13-c6dd4266c2d0",
   "metadata": {},
   "outputs": [],
   "source": [
    "# Inspect example of the data"
   ]
  },
  {
   "cell_type": "code",
   "execution_count": 11,
   "id": "e96cf5e8-214a-4ac2-b441-beb1c9969131",
   "metadata": {},
   "outputs": [
    {
     "ename": "NameError",
     "evalue": "name 'plt' is not defined",
     "output_type": "error",
     "traceback": [
      "\u001b[0;31m---------------------------------------------------------------------------\u001b[0m",
      "\u001b[0;31mNameError\u001b[0m                                 Traceback (most recent call last)",
      "Cell \u001b[0;32mIn[11], line 6\u001b[0m\n\u001b[1;32m      3\u001b[0m y\u001b[38;5;241m.\u001b[39mshape, X\u001b[38;5;241m.\u001b[39mshape\n\u001b[1;32m      5\u001b[0m \u001b[38;5;66;03m# The 0.0 value is the target for the transformer\u001b[39;00m\n\u001b[0;32m----> 6\u001b[0m \u001b[43mplt\u001b[49m\u001b[38;5;241m.\u001b[39mfigure(figsize\u001b[38;5;241m=\u001b[39m(\u001b[38;5;241m8\u001b[39m, \u001b[38;5;241m6\u001b[39m))\n\u001b[1;32m      7\u001b[0m plt\u001b[38;5;241m.\u001b[39mscatter(X[indice, :, \u001b[38;5;241m0\u001b[39m], X[indice, :, \u001b[38;5;241m1\u001b[39m], label\u001b[38;5;241m=\u001b[39m\u001b[38;5;124m'\u001b[39m\u001b[38;5;124mFeature\u001b[39m\u001b[38;5;124m'\u001b[39m, marker\u001b[38;5;241m=\u001b[39m\u001b[38;5;124m'\u001b[39m\u001b[38;5;124mo\u001b[39m\u001b[38;5;124m'\u001b[39m)\n\u001b[1;32m      8\u001b[0m plt\u001b[38;5;241m.\u001b[39mtitle(\u001b[38;5;124m'\u001b[39m\u001b[38;5;124mRegression Data Visualization\u001b[39m\u001b[38;5;124m'\u001b[39m)\n",
      "\u001b[0;31mNameError\u001b[0m: name 'plt' is not defined"
     ]
    }
   ],
   "source": [
    "indice = 4\n",
    "X, y, _ = sample_regression_dataset(jax.random.key(42), input_size=1, input_range=1.0)\n",
    "y.shape, X.shape\n",
    "\n",
    "# The 0.0 value is the target for the transformer\n",
    "plt.figure(figsize=(8, 6))\n",
    "plt.scatter(X[indice, :, 0], X[indice, :, 1], label='Feature', marker='o')\n",
    "plt.title('Regression Data Visualization')\n",
    "plt.xlabel('Sequence Index')\n",
    "plt.ylabel('Value')\n",
    "plt.legend()\n",
    "plt.grid(True)\n",
    "plt.show()"
   ]
  },
  {
   "cell_type": "code",
   "execution_count": null,
   "id": "25bee1dc-a493-4046-aff9-1adc99b7433f",
   "metadata": {},
   "outputs": [],
   "source": []
  },
  {
   "cell_type": "code",
   "execution_count": null,
   "id": "deb3552e-5bd9-4928-b1be-6761aba910eb",
   "metadata": {},
   "outputs": [],
   "source": []
  },
  {
   "cell_type": "code",
   "execution_count": null,
   "id": "f3c07e9c-9c7d-4626-947b-ab447f7e5005",
   "metadata": {},
   "outputs": [],
   "source": []
  },
  {
   "cell_type": "code",
   "execution_count": null,
   "id": "481c08e8-67ab-4ff4-867b-ca2ac70e56bb",
   "metadata": {},
   "outputs": [],
   "source": []
  },
  {
   "cell_type": "code",
   "execution_count": null,
   "id": "677eef40-93b0-42dd-aa50-ac7d4c73551f",
   "metadata": {},
   "outputs": [],
   "source": []
  },
  {
   "cell_type": "code",
   "execution_count": null,
   "id": "291615ee-9dde-4922-af14-399820cd6d8b",
   "metadata": {},
   "outputs": [],
   "source": []
  }
 ],
 "metadata": {
  "kernelspec": {
   "display_name": "Python 3 (ipykernel)",
   "language": "python",
   "name": "python3"
  },
  "language_info": {
   "codemirror_mode": {
    "name": "ipython",
    "version": 3
   },
   "file_extension": ".py",
   "mimetype": "text/x-python",
   "name": "python",
   "nbconvert_exporter": "python",
   "pygments_lexer": "ipython3",
   "version": "3.11.10"
  }
 },
 "nbformat": 4,
 "nbformat_minor": 5
}
